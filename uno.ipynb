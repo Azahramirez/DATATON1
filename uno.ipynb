{
 "cells": [
  {
   "cell_type": "code",
   "execution_count": 157,
   "metadata": {},
   "outputs": [],
   "source": [
    "import pandas as pd\n",
    "import numpy as np\n",
    "df=pd.read_csv(\"Datathon.csv\", sep=\",\")\n",
    "df.columns=[\"Transaccion\",\"Comercio\",\"Tipo Comercio\",\"Especifico\",\"Fecha\",\"Pais\",\"Forma Pago\",\"Sexo\",\"Estado\",\"Edad\",\"Monto\",\"ID\"]"
   ]
  },
  {
   "cell_type": "code",
   "execution_count": 158,
   "metadata": {},
   "outputs": [],
   "source": [
    "TDD = df[df[\"Transaccion\"] == \"TDD\"].groupby(\"ID\")[\"Transaccion\"].count()\n",
    "TDD = TDD.reindex(df[\"ID\"].unique(), fill_value=0)\n",
    "TDD = pd.DataFrame({\"TDD\":TDD})\n",
    "TDD = TDD.sort_values(\"ID\")\n",
    "TDC = df[df[\"Transaccion\"] == \"TDC\"].groupby(\"ID\")[\"Transaccion\"].count()\n",
    "TDC = TDC.reindex(df[\"ID\"].unique(), fill_value=0)\n",
    "TDC = pd.DataFrame({\"TDC\":TDC})\n",
    "TDC = TDC.sort_values(\"ID\")\n",
    "ID = df[\"ID\"].sort_values().unique()\n",
    "ID = pd.DataFrame(ID,columns=[\"ID\"])\n",
    "transaccion = df.groupby(\"ID\")[\"Transaccion\"].count()\n",
    "transaccion = pd.DataFrame(transaccion,columns=[\"Transaccion\"])\n",
    "suma = df.groupby(\"ID\")[\"Monto\"].sum()\n",
    "edad = df.groupby(\"ID\")[\"Edad\"].mean()\n",
    "suma = pd.DataFrame(suma,columns=[\"Monto\"])\n",
    "edad = pd.DataFrame(edad,columns= [\"Edad\"])"
   ]
  },
  {
   "cell_type": "code",
   "execution_count": 160,
   "metadata": {},
   "outputs": [
    {
     "data": {
      "text/html": [
       "<div>\n",
       "<style scoped>\n",
       "    .dataframe tbody tr th:only-of-type {\n",
       "        vertical-align: middle;\n",
       "    }\n",
       "\n",
       "    .dataframe tbody tr th {\n",
       "        vertical-align: top;\n",
       "    }\n",
       "\n",
       "    .dataframe thead th {\n",
       "        text-align: right;\n",
       "    }\n",
       "</style>\n",
       "<table border=\"1\" class=\"dataframe\">\n",
       "  <thead>\n",
       "    <tr style=\"text-align: right;\">\n",
       "      <th></th>\n",
       "      <th>ID</th>\n",
       "      <th>Monto</th>\n",
       "      <th>Edad</th>\n",
       "      <th>Total de Transacciones</th>\n",
       "      <th>TDD</th>\n",
       "      <th>TDC</th>\n",
       "    </tr>\n",
       "  </thead>\n",
       "  <tbody>\n",
       "    <tr>\n",
       "      <th>8827</th>\n",
       "      <td>8828.0</td>\n",
       "      <td>19603.85</td>\n",
       "      <td>41.0</td>\n",
       "      <td>208.0</td>\n",
       "      <td>208.0</td>\n",
       "      <td>0.0</td>\n",
       "    </tr>\n",
       "  </tbody>\n",
       "</table>\n",
       "</div>"
      ],
      "text/plain": [
       "          ID     Monto  Edad  Total de Transacciones    TDD  TDC\n",
       "8827  8828.0  19603.85  41.0                   208.0  208.0  0.0"
      ]
     },
     "execution_count": 160,
     "metadata": {},
     "output_type": "execute_result"
    }
   ],
   "source": [
    "agrupacion = np.concatenate((ID,suma,edad,transaccion,TDD,TDC),axis=1)\n",
    "agrupacion = pd.DataFrame(agrupacion,columns=[\"ID\",\"Monto\",\"Edad\",\"Total de Transacciones\",\"TDD\",\"TDC\"])\n",
    "agrupacion.Edad.value_counts(bins=[0,17,35,50,80,100,123]) #Cantidad de gente por edad\n",
    "#agrupacion.loc[agrupacion[\"ID\"]==8828]\n",
    "agrupacion"
   ]
  }
 ],
 "metadata": {
  "kernelspec": {
   "display_name": "Python 3",
   "language": "python",
   "name": "python3"
  },
  "language_info": {
   "codemirror_mode": {
    "name": "ipython",
    "version": 3
   },
   "file_extension": ".py",
   "mimetype": "text/x-python",
   "name": "python",
   "nbconvert_exporter": "python",
   "pygments_lexer": "ipython3",
   "version": "3.11.0"
  },
  "orig_nbformat": 4
 },
 "nbformat": 4,
 "nbformat_minor": 2
}
