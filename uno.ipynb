{
 "cells": [
  {
   "cell_type": "code",
   "execution_count": 130,
   "metadata": {},
   "outputs": [],
   "source": [
    "import pandas as pd\n",
    "import numpy as np\n",
    "from datetime import date\n",
    "import matplotlib.pyplot as plt\n",
    "df=pd.read_csv(\"Datathon.csv\", sep=\",\")\n",
    "df.columns=[\"Transaccion\",\"Comercio\",\"Tipo Comercio\",\"Especifico\",\"Fecha\",\"Pais\",\"Forma Pago\",\"Sexo\",\"Estado\",\"Edad\",\"Monto\",\"ID\"]"
   ]
  },
  {
   "cell_type": "code",
   "execution_count": 131,
   "metadata": {},
   "outputs": [],
   "source": [
    "lista = df['Fecha'].str.split(\" \")\n",
    "fecha=[]\n",
    "hora=[]\n",
    "for i in range (len(lista)):\n",
    "    fecha.append(lista[i][0])\n",
    "    hora.append(lista[i][1])\n",
    "Fecha=[]\n",
    "for i in range(len(fecha)):\n",
    "    Fecha.append(fecha[i].split(\"-\"))\n",
    "Hora = []\n",
    "for i in range(len(hora)):\n",
    "    Hora.append(hora[i].split(\":\"))\n"
   ]
  },
  {
   "cell_type": "code",
   "execution_count": 132,
   "metadata": {},
   "outputs": [
    {
     "data": {
      "text/plain": [
       "0"
      ]
     },
     "execution_count": 132,
     "metadata": {},
     "output_type": "execute_result"
    }
   ],
   "source": [
    "Fecha = pd.DataFrame(Fecha,columns=[\"Año\",\"Mes\",\"Dia\"])\n",
    "Hora = pd.DataFrame(Hora,columns=[\"Hora\",\"Minuto\",\"Segundo\"])\n",
    "Hora = pd.DataFrame(Hora,columns=[\"Hora\",\"Minuto\"])\n",
    "Tiempo = np.concatenate((Fecha,Hora),axis=1)\n",
    "Tiempo = pd.DataFrame(Tiempo,columns=[\"Año\",\"Mes\",\"Dia\",\"Hora\",\"Minuto\" ]).astype(int)\n",
    "Tiempo[\"Hora\"].min()\n"
   ]
  },
  {
   "cell_type": "code",
   "execution_count": 133,
   "metadata": {},
   "outputs": [],
   "source": [
    "from datetime import date\n",
    "from datetime import datetime\n",
    "fechita = date(Tiempo['Año'][0],Tiempo['Mes'][0],Tiempo['Dia'][0])\n",
    "fechita=[]\n",
    "for i in range(len(Tiempo)):\n",
    "    fechita.append(date(Tiempo['Año'][i],Tiempo['Mes'][i],Tiempo['Dia'][i]).toordinal())\n",
    "    i+=1\n",
    "id = df[\"ID\"]\n",
    "id = pd.DataFrame(id)\n",
    "fechita= pd.DataFrame(fechita)\n",
    "monto = pd.DataFrame(df[\"Monto\"])\n"
   ]
  },
  {
   "cell_type": "code",
   "execution_count": 134,
   "metadata": {},
   "outputs": [],
   "source": [
    "FechaCompra = np.concatenate((fechita,Hora,monto,id),axis=1)\n",
    "FechaCompra=pd.DataFrame(FechaCompra,columns=['Fecha','Hora','Minuto','Monto',\"ID\"])\n",
    "FechaCompra[\"Fecha\"] -= 738467\n",
    "week = []\n",
    "for i in range(len(FechaCompra)):\n",
    "    week.append(FechaCompra[\"Fecha\"][i]//7)\n",
    "week = pd.DataFrame(week)\n"
   ]
  },
  {
   "cell_type": "code",
   "execution_count": 148,
   "metadata": {},
   "outputs": [
    {
     "data": {
      "text/html": [
       "<div>\n",
       "<style scoped>\n",
       "    .dataframe tbody tr th:only-of-type {\n",
       "        vertical-align: middle;\n",
       "    }\n",
       "\n",
       "    .dataframe tbody tr th {\n",
       "        vertical-align: top;\n",
       "    }\n",
       "\n",
       "    .dataframe thead th {\n",
       "        text-align: right;\n",
       "    }\n",
       "</style>\n",
       "<table border=\"1\" class=\"dataframe\">\n",
       "  <thead>\n",
       "    <tr style=\"text-align: right;\">\n",
       "      <th></th>\n",
       "      <th>Week</th>\n",
       "      <th>Fecha</th>\n",
       "      <th>Hora</th>\n",
       "      <th>Minuto</th>\n",
       "      <th>Monto</th>\n",
       "      <th>ID</th>\n",
       "    </tr>\n",
       "  </thead>\n",
       "  <tbody>\n",
       "    <tr>\n",
       "      <th>0</th>\n",
       "      <td>10</td>\n",
       "      <td>73</td>\n",
       "      <td>13</td>\n",
       "      <td>48</td>\n",
       "      <td>65.04</td>\n",
       "      <td>933</td>\n",
       "    </tr>\n",
       "    <tr>\n",
       "      <th>1</th>\n",
       "      <td>11</td>\n",
       "      <td>81</td>\n",
       "      <td>13</td>\n",
       "      <td>58</td>\n",
       "      <td>143.18</td>\n",
       "      <td>8562</td>\n",
       "    </tr>\n",
       "    <tr>\n",
       "      <th>2</th>\n",
       "      <td>11</td>\n",
       "      <td>82</td>\n",
       "      <td>13</td>\n",
       "      <td>37</td>\n",
       "      <td>84.8</td>\n",
       "      <td>3980</td>\n",
       "    </tr>\n",
       "    <tr>\n",
       "      <th>3</th>\n",
       "      <td>13</td>\n",
       "      <td>95</td>\n",
       "      <td>15</td>\n",
       "      <td>06</td>\n",
       "      <td>124.22</td>\n",
       "      <td>9389</td>\n",
       "    </tr>\n",
       "    <tr>\n",
       "      <th>4</th>\n",
       "      <td>11</td>\n",
       "      <td>77</td>\n",
       "      <td>12</td>\n",
       "      <td>50</td>\n",
       "      <td>17.44</td>\n",
       "      <td>1845</td>\n",
       "    </tr>\n",
       "    <tr>\n",
       "      <th>...</th>\n",
       "      <td>...</td>\n",
       "      <td>...</td>\n",
       "      <td>...</td>\n",
       "      <td>...</td>\n",
       "      <td>...</td>\n",
       "      <td>...</td>\n",
       "    </tr>\n",
       "    <tr>\n",
       "      <th>358355</th>\n",
       "      <td>9</td>\n",
       "      <td>66</td>\n",
       "      <td>14</td>\n",
       "      <td>36</td>\n",
       "      <td>531.91</td>\n",
       "      <td>463</td>\n",
       "    </tr>\n",
       "    <tr>\n",
       "      <th>358356</th>\n",
       "      <td>2</td>\n",
       "      <td>19</td>\n",
       "      <td>02</td>\n",
       "      <td>22</td>\n",
       "      <td>531.24</td>\n",
       "      <td>4167</td>\n",
       "    </tr>\n",
       "    <tr>\n",
       "      <th>358357</th>\n",
       "      <td>15</td>\n",
       "      <td>111</td>\n",
       "      <td>15</td>\n",
       "      <td>35</td>\n",
       "      <td>523.99</td>\n",
       "      <td>3264</td>\n",
       "    </tr>\n",
       "    <tr>\n",
       "      <th>358358</th>\n",
       "      <td>4</td>\n",
       "      <td>31</td>\n",
       "      <td>18</td>\n",
       "      <td>28</td>\n",
       "      <td>548.17</td>\n",
       "      <td>8180</td>\n",
       "    </tr>\n",
       "    <tr>\n",
       "      <th>358359</th>\n",
       "      <td>16</td>\n",
       "      <td>116</td>\n",
       "      <td>14</td>\n",
       "      <td>42</td>\n",
       "      <td>558.81</td>\n",
       "      <td>2889</td>\n",
       "    </tr>\n",
       "  </tbody>\n",
       "</table>\n",
       "<p>358360 rows × 6 columns</p>\n",
       "</div>"
      ],
      "text/plain": [
       "       Week Fecha Hora Minuto   Monto    ID\n",
       "0        10    73   13     48   65.04   933\n",
       "1        11    81   13     58  143.18  8562\n",
       "2        11    82   13     37    84.8  3980\n",
       "3        13    95   15     06  124.22  9389\n",
       "4        11    77   12     50   17.44  1845\n",
       "...     ...   ...  ...    ...     ...   ...\n",
       "358355    9    66   14     36  531.91   463\n",
       "358356    2    19   02     22  531.24  4167\n",
       "358357   15   111   15     35  523.99  3264\n",
       "358358    4    31   18     28  548.17  8180\n",
       "358359   16   116   14     42  558.81  2889\n",
       "\n",
       "[358360 rows x 6 columns]"
      ]
     },
     "execution_count": 148,
     "metadata": {},
     "output_type": "execute_result"
    },
    {
     "data": {
      "image/png": "[encoded data removed]",
      "text/plain": [
       "<Figure size 640x480 with 1 Axes>"
      ]
     },
     "metadata": {},
     "output_type": "display_data"
    }
   ],
   "source": [
    "FechaCompra = np.concatenate((week,fechita,Hora,monto,id),axis=1)\n",
    "FechaCompra=pd.DataFrame(FechaCompra,columns=['Week','Fecha','Hora','Minuto','Monto',\"ID\"])\n",
    "FechaCompra[\"Fecha\"] -=738467\n",
    "Navidad = FechaCompra[FechaCompra[\"Fecha\"] == 33].groupby(\"Fecha\")[\"Monto\"].sum()\n",
    "gastosdias =FechaCompra.groupby(\"Fecha\")[\"Monto\"].sum().sort_values()\n",
    "FechaCompra[\"Week\"].hist()\n",
    "FechaCompra"
   ]
  },
  {
   "cell_type": "code",
   "execution_count": 155,
   "metadata": {},
   "outputs": [
    {
     "data": {
      "text/plain": [
       "Week\n",
       "16    4290688.57\n",
       "14    4017582.17\n",
       "5     3997356.15\n",
       "12    3946698.02\n",
       "6     3687592.04\n",
       "1     3664265.44\n",
       "7     3629691.13\n",
       "15    3618699.49\n",
       "9     3575700.39\n",
       "8     3538228.18\n",
       "3     3500761.22\n",
       "13    3490017.98\n",
       "4     3464492.78\n",
       "11    3344520.67\n",
       "10    3286879.91\n",
       "2     2968320.88\n",
       "0     2935527.57\n",
       "17     542238.24\n",
       "Name: Monto, dtype: object"
      ]
     },
     "execution_count": 155,
     "metadata": {},
     "output_type": "execute_result"
    },
    {
     "data": {
      "image/png": "[encoded data removed]",
      "text/plain": [
       "<Figure size 640x480 with 1 Axes>"
      ]
     },
     "metadata": {},
     "output_type": "display_data"
    }
   ],
   "source": [
    "import matplotlib.pyplot as plt\n",
    "\n",
    "plt.scatter(FechaCompra[\"Week\"], FechaCompra[\"Monto\"])\n",
    "plt.xlabel(\"Week\")\n",
    "plt.ylabel(\"Monto\")\n",
    "gastossemana =FechaCompra.groupby(\"Week\")[\"Monto\"].sum().sort_values(ascending=False)\n",
    "gastossemana"
   ]
  },
  {
   "cell_type": "code",
   "execution_count": 187,
   "metadata": {},
   "outputs": [
    {
     "data": {
      "text/html": [
       "<div>\n",
       "<style scoped>\n",
       "    .dataframe tbody tr th:only-of-type {\n",
       "        vertical-align: middle;\n",
       "    }\n",
       "\n",
       "    .dataframe tbody tr th {\n",
       "        vertical-align: top;\n",
       "    }\n",
       "\n",
       "    .dataframe thead th {\n",
       "        text-align: right;\n",
       "    }\n",
       "</style>\n",
       "<table border=\"1\" class=\"dataframe\">\n",
       "  <thead>\n",
       "    <tr style=\"text-align: right;\">\n",
       "      <th></th>\n",
       "      <th>Week</th>\n",
       "      <th>ID</th>\n",
       "      <th>Monto</th>\n",
       "    </tr>\n",
       "  </thead>\n",
       "  <tbody>\n",
       "    <tr>\n",
       "      <th>0</th>\n",
       "      <td>0</td>\n",
       "      <td>7</td>\n",
       "      <td>180.51</td>\n",
       "    </tr>\n",
       "    <tr>\n",
       "      <th>1</th>\n",
       "      <td>0</td>\n",
       "      <td>9</td>\n",
       "      <td>2318.81</td>\n",
       "    </tr>\n",
       "    <tr>\n",
       "      <th>2</th>\n",
       "      <td>0</td>\n",
       "      <td>10</td>\n",
       "      <td>31.91</td>\n",
       "    </tr>\n",
       "    <tr>\n",
       "      <th>3</th>\n",
       "      <td>0</td>\n",
       "      <td>14</td>\n",
       "      <td>361.22</td>\n",
       "    </tr>\n",
       "    <tr>\n",
       "      <th>4</th>\n",
       "      <td>0</td>\n",
       "      <td>15</td>\n",
       "      <td>62.35</td>\n",
       "    </tr>\n",
       "    <tr>\n",
       "      <th>...</th>\n",
       "      <td>...</td>\n",
       "      <td>...</td>\n",
       "      <td>...</td>\n",
       "    </tr>\n",
       "    <tr>\n",
       "      <th>93390</th>\n",
       "      <td>17</td>\n",
       "      <td>9968</td>\n",
       "      <td>84.9</td>\n",
       "    </tr>\n",
       "    <tr>\n",
       "      <th>93391</th>\n",
       "      <td>17</td>\n",
       "      <td>9970</td>\n",
       "      <td>267.64</td>\n",
       "    </tr>\n",
       "    <tr>\n",
       "      <th>93392</th>\n",
       "      <td>17</td>\n",
       "      <td>9984</td>\n",
       "      <td>67.34</td>\n",
       "    </tr>\n",
       "    <tr>\n",
       "      <th>93393</th>\n",
       "      <td>17</td>\n",
       "      <td>9985</td>\n",
       "      <td>253.43</td>\n",
       "    </tr>\n",
       "    <tr>\n",
       "      <th>93394</th>\n",
       "      <td>17</td>\n",
       "      <td>9987</td>\n",
       "      <td>419.1</td>\n",
       "    </tr>\n",
       "  </tbody>\n",
       "</table>\n",
       "<p>93395 rows × 3 columns</p>\n",
       "</div>"
      ],
      "text/plain": [
       "       Week    ID    Monto\n",
       "0         0     7   180.51\n",
       "1         0     9  2318.81\n",
       "2         0    10    31.91\n",
       "3         0    14   361.22\n",
       "4         0    15    62.35\n",
       "...     ...   ...      ...\n",
       "93390    17  9968     84.9\n",
       "93391    17  9970   267.64\n",
       "93392    17  9984    67.34\n",
       "93393    17  9985   253.43\n",
       "93394    17  9987    419.1\n",
       "\n",
       "[93395 rows x 3 columns]"
      ]
     },
     "execution_count": 187,
     "metadata": {},
     "output_type": "execute_result"
    }
   ],
   "source": [
    "gastossemanaid =FechaCompra.groupby([\"Week\",\"ID\"])[\"Monto\"].sum()\n",
    "gastossemanaid = pd.DataFrame(gastossemanaid)\n",
    "gastossemanaid.reset_index()"
   ]
  },
  {
   "cell_type": "code",
   "execution_count": null,
   "metadata": {},
   "outputs": [],
   "source": [
    "TDD = df[df[\"Transaccion\"] == \"TDD\"].groupby(\"ID\")[\"Transaccion\"].count()\n",
    "TDD = TDD.reindex(df[\"ID\"].unique(), fill_value=0)\n",
    "TDD = pd.DataFrame({\"TDD\":TDD})\n",
    "TDD = TDD.sort_values(\"ID\")\n",
    "TDC = df[df[\"Transaccion\"] == \"TDC\"].groupby(\"ID\")[\"Transaccion\"].count()\n",
    "TDC = TDC.reindex(df[\"ID\"].unique(), fill_value=0)\n",
    "TDC = pd.DataFrame({\"TDC\":TDC})\n",
    "TDC = TDC.sort_values(\"ID\")\n",
    "ID = df[\"ID\"].sort_values().unique()\n",
    "ID = pd.DataFrame(ID,columns=[\"ID\"])\n",
    "transaccion = df.groupby(\"ID\")[\"Transaccion\"].count()\n",
    "transaccion = pd.DataFrame(transaccion,columns=[\"Transaccion\"])\n",
    "suma = df.groupby(\"ID\")[\"Monto\"].sum()\n",
    "edad = df.groupby(\"ID\")[\"Edad\"].mean()\n",
    "suma = pd.DataFrame(suma,columns=[\"Monto\"])\n",
    "edad = pd.DataFrame(edad,columns= [\"Edad\"])"
   ]
  },
  {
   "cell_type": "code",
   "execution_count": null,
   "metadata": {},
   "outputs": [
    {
     "data": {
      "text/plain": [
       "(-0.001, 7800.0]        7305\n",
       "(7800.0, 99999999.0]    2695\n",
       "Name: Monto, dtype: int64"
      ]
     },
     "execution_count": 48,
     "metadata": {},
     "output_type": "execute_result"
    }
   ],
   "source": [
    "agrupacion = np.concatenate((ID,suma,edad,transaccion,TDD,TDC),axis=1)\n",
    "agrupacion = pd.DataFrame(agrupacion,columns=[\"ID\",\"Monto\",\"Edad\",\"Total de Transacciones\",\"TDD\",\"TDC\"])\n",
    "agrupacion.Edad.value_counts(bins=[0,17,35,50,80,100,123]) #Cantidad de gente por edad\n",
    "#agrupacion.loc[agrupacion[\"ID\"]==8828]\n",
    "agrupacion[\"Monto\"].value_counts(bins=[0,7800,99999999])"
   ]
  }
 ],
 "metadata": {
  "kernelspec": {
   "display_name": "Python 3",
   "language": "python",
   "name": "python3"
  },
  "language_info": {
   "codemirror_mode": {
    "name": "ipython",
    "version": 3
   },
   "file_extension": ".py",
   "mimetype": "text/x-python",
   "name": "python",
   "nbconvert_exporter": "python",
   "pygments_lexer": "ipython3",
   "version": "3.11.0"
  },
  "orig_nbformat": 4
 },
 "nbformat": 4,
 "nbformat_minor": 2
}
